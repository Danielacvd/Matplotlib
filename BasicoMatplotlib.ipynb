{
  "nbformat": 4,
  "nbformat_minor": 0,
  "metadata": {
    "colab": {
      "name": "BasicoMatplotlib.ipynb",
      "provenance": [],
      "collapsed_sections": []
    },
    "kernelspec": {
      "name": "python3",
      "display_name": "Python 3"
    }
  },
  "cells": [
    {
      "cell_type": "code",
      "metadata": {
        "id": "CeT8bGjySnr7"
      },
      "source": [
        "#visualizacion de datos, necesitamos 3 modulos\n",
        "import numpy as np\n",
        "import pandas as pd\n",
        "import matplotlib.pyplot as plt\n"
      ],
      "execution_count": 3,
      "outputs": []
    },
    {
      "cell_type": "code",
      "metadata": {
        "id": "S_fAraNhTCaW",
        "outputId": "a32050fd-54f3-4cf5-e642-6d84c5e7339c",
        "colab": {
          "base_uri": "https://localhost:8080/",
          "height": 50
        }
      },
      "source": [
        "# Creamos un rango de valores\n",
        "x = np.arange(0, 20)\n",
        "x"
      ],
      "execution_count": 4,
      "outputs": [
        {
          "output_type": "execute_result",
          "data": {
            "text/plain": [
              "array([ 0,  1,  2,  3,  4,  5,  6,  7,  8,  9, 10, 11, 12, 13, 14, 15, 16,\n",
              "       17, 18, 19])"
            ]
          },
          "metadata": {
            "tags": []
          },
          "execution_count": 4
        }
      ]
    },
    {
      "cell_type": "code",
      "metadata": {
        "id": "YD9UWAkGTSK6",
        "outputId": "29ae9092-59d4-44b0-c65f-486129d09f64",
        "colab": {
          "base_uri": "https://localhost:8080/",
          "height": 50
        }
      },
      "source": [
        "y = x**2\n",
        "y"
      ],
      "execution_count": 7,
      "outputs": [
        {
          "output_type": "execute_result",
          "data": {
            "text/plain": [
              "array([  0,   1,   4,   9,  16,  25,  36,  49,  64,  81, 100, 121, 144,\n",
              "       169, 196, 225, 256, 289, 324, 361])"
            ]
          },
          "metadata": {
            "tags": []
          },
          "execution_count": 7
        }
      ]
    },
    {
      "cell_type": "code",
      "metadata": {
        "id": "3bLDEHzcTUeR",
        "outputId": "b491975f-af74-4f18-c47b-e289b5610b82",
        "colab": {
          "base_uri": "https://localhost:8080/",
          "height": 312
        }
      },
      "source": [
        "#Ahora hacemos una grafica en relacion a las 2 variables, el grafico se puede editar, como tercer parametro le pasamos color, o signos que reemplazan la linea\n",
        "plt.plot(x, y, 'r')\n",
        "plt.plot(x, y, 'g*')\n",
        "#Podemos aadir titulo y descripcion a cada eje\n",
        "plt.title(\"Titulo grafico\")\n",
        "plt.xlabel(\"ejex\")\n",
        "plt.ylabel(\"ejey\")"
      ],
      "execution_count": 14,
      "outputs": [
        {
          "output_type": "execute_result",
          "data": {
            "text/plain": [
              "Text(0, 0.5, 'ejey')"
            ]
          },
          "metadata": {
            "tags": []
          },
          "execution_count": 14
        },
        {
          "output_type": "display_data",
          "data": {
            "image/png": "[encoded data removed]",
            "text/plain": [
              "<Figure size 432x288 with 1 Axes>"
            ]
          },
          "metadata": {
            "tags": [],
            "needs_background": "light"
          }
        }
      ]
    },
    {
      "cell_type": "code",
      "metadata": {
        "id": "1PAPNcopTfV0",
        "outputId": "3e538b6a-1efe-4e8b-ca00-5b1951f7d05b",
        "colab": {
          "base_uri": "https://localhost:8080/",
          "height": 185
        }
      },
      "source": [
        "#Mas graficos, con formatos de 10 filas por columnas\n",
        "array = np.arange(0, 50).reshape(10, 5)\n",
        "array"
      ],
      "execution_count": 16,
      "outputs": [
        {
          "output_type": "execute_result",
          "data": {
            "text/plain": [
              "array([[ 0,  1,  2,  3,  4],\n",
              "       [ 5,  6,  7,  8,  9],\n",
              "       [10, 11, 12, 13, 14],\n",
              "       [15, 16, 17, 18, 19],\n",
              "       [20, 21, 22, 23, 24],\n",
              "       [25, 26, 27, 28, 29],\n",
              "       [30, 31, 32, 33, 34],\n",
              "       [35, 36, 37, 38, 39],\n",
              "       [40, 41, 42, 43, 44],\n",
              "       [45, 46, 47, 48, 49]])"
            ]
          },
          "metadata": {
            "tags": []
          },
          "execution_count": 16
        }
      ]
    },
    {
      "cell_type": "code",
      "metadata": {
        "id": "pR5eKDAZUTUY",
        "outputId": "39172bd3-63d1-4155-db02-2a816804e924",
        "colab": {
          "base_uri": "https://localhost:8080/",
          "height": 282
        }
      },
      "source": [
        "#Crear un grafico de imagenes, convierte el valor numero en color\n",
        "plt.imshow(array)\n",
        "plt.colorbar()"
      ],
      "execution_count": 18,
      "outputs": [
        {
          "output_type": "execute_result",
          "data": {
            "text/plain": [
              "<matplotlib.colorbar.Colorbar at 0x7fce022b1e80>"
            ]
          },
          "metadata": {
            "tags": []
          },
          "execution_count": 18
        },
        {
          "output_type": "display_data",
          "data": {
            "image/png": "[encoded data removed]",
            "text/plain": [
              "<Figure size 432x288 with 2 Axes>"
            ]
          },
          "metadata": {
            "tags": [],
            "needs_background": "light"
          }
        }
      ]
    },
    {
      "cell_type": "code",
      "metadata": {
        "id": "Kt8aIHLSUmTw",
        "outputId": "052311b1-eeb0-43d1-fb25-1173a997ef96",
        "colab": {
          "base_uri": "https://localhost:8080/",
          "height": 151
        }
      },
      "source": [
        "#Grafico de colores, con valores aleatorios\n",
        "array2 = np.random.randint(0, 1000, 100)\n",
        "array2"
      ],
      "execution_count": 19,
      "outputs": [
        {
          "output_type": "execute_result",
          "data": {
            "text/plain": [
              "array([501, 278, 293, 367, 980, 121, 401, 402,  66, 952, 709, 284,  40,\n",
              "       996, 618,  68, 504, 761,  69, 127,  80, 845, 505, 946, 785, 415,\n",
              "       468, 931, 537, 505,  70, 833, 100, 128, 475, 199, 771, 649, 251,\n",
              "       915, 759, 469, 880, 722, 151, 169, 463, 608,  60, 169, 213, 674,\n",
              "        73, 731,  52,  22, 149, 241,  98, 984, 223, 244, 920,  47, 639,\n",
              "       805, 240, 473, 807, 286, 122, 790, 206, 780, 208, 482, 969, 479,\n",
              "       456, 114, 527, 462, 900, 910, 101, 344, 389, 267, 382, 289, 869,\n",
              "       263, 679, 124, 973, 781, 607, 564, 726, 329])"
            ]
          },
          "metadata": {
            "tags": []
          },
          "execution_count": 19
        }
      ]
    },
    {
      "cell_type": "code",
      "metadata": {
        "id": "vY6doZ-HU7-M"
      },
      "source": [
        "array2 = array2.reshape(10,10)\n",
        "array2"
      ],
      "execution_count": null,
      "outputs": []
    },
    {
      "cell_type": "code",
      "metadata": {
        "id": "IYLJyyDEVBNo"
      },
      "source": [
        "plt.imshow(array2)\n",
        "plt.colorbar()"
      ],
      "execution_count": null,
      "outputs": []
    },
    {
      "cell_type": "code",
      "metadata": {
        "id": "_DFe5825VKpk",
        "outputId": "4758880c-71a3-4476-aa43-b7a53e7c8879",
        "colab": {
          "base_uri": "https://localhost:8080/",
          "height": 195
        }
      },
      "source": [
        "#Graficos con datos que vienen de un fichero\n",
        "dataframe = pd.read_csv('personas.csv')\n",
        "dataframe"
      ],
      "execution_count": 26,
      "outputs": [
        {
          "output_type": "execute_result",
          "data": {
            "text/html": [
              "<div>\n",
              "<style scoped>\n",
              "    .dataframe tbody tr th:only-of-type {\n",
              "        vertical-align: middle;\n",
              "    }\n",
              "\n",
              "    .dataframe tbody tr th {\n",
              "        vertical-align: top;\n",
              "    }\n",
              "\n",
              "    .dataframe thead th {\n",
              "        text-align: right;\n",
              "    }\n",
              "</style>\n",
              "<table border=\"1\" class=\"dataframe\">\n",
              "  <thead>\n",
              "    <tr style=\"text-align: right;\">\n",
              "      <th></th>\n",
              "      <th>NOMBRE</th>\n",
              "      <th>APELLIDOS</th>\n",
              "      <th>EDAD</th>\n",
              "      <th>SALARIO</th>\n",
              "    </tr>\n",
              "  </thead>\n",
              "  <tbody>\n",
              "    <tr>\n",
              "      <th>0</th>\n",
              "      <td>ANTONIO</td>\n",
              "      <td>PEREZ GOMEZ</td>\n",
              "      <td>34</td>\n",
              "      <td>20000</td>\n",
              "    </tr>\n",
              "    <tr>\n",
              "      <th>1</th>\n",
              "      <td>LUIS</td>\n",
              "      <td>RODRIGUEZ VAZQUEZ</td>\n",
              "      <td>45</td>\n",
              "      <td>45000</td>\n",
              "    </tr>\n",
              "    <tr>\n",
              "      <th>2</th>\n",
              "      <td>ROSA</td>\n",
              "      <td>MARTINEZ LOPEZ</td>\n",
              "      <td>25</td>\n",
              "      <td>15000</td>\n",
              "    </tr>\n",
              "    <tr>\n",
              "      <th>3</th>\n",
              "      <td>PEDRO</td>\n",
              "      <td>SILVA GONZALEZ</td>\n",
              "      <td>54</td>\n",
              "      <td>50000</td>\n",
              "    </tr>\n",
              "    <tr>\n",
              "      <th>4</th>\n",
              "      <td>MARIA</td>\n",
              "      <td>DIAZ LOPEZ</td>\n",
              "      <td>40</td>\n",
              "      <td>32000</td>\n",
              "    </tr>\n",
              "  </tbody>\n",
              "</table>\n",
              "</div>"
            ],
            "text/plain": [
              "    NOMBRE          APELLIDOS  EDAD  SALARIO\n",
              "0  ANTONIO        PEREZ GOMEZ    34    20000\n",
              "1     LUIS  RODRIGUEZ VAZQUEZ    45    45000\n",
              "2     ROSA     MARTINEZ LOPEZ    25    15000\n",
              "3    PEDRO     SILVA GONZALEZ    54    50000\n",
              "4    MARIA         DIAZ LOPEZ    40    32000"
            ]
          },
          "metadata": {
            "tags": []
          },
          "execution_count": 26
        }
      ]
    },
    {
      "cell_type": "code",
      "metadata": {
        "id": "KlS2TclKViEG",
        "outputId": "7ebb34cd-d0ff-4ac9-885f-d6f298822429",
        "colab": {
          "base_uri": "https://localhost:8080/",
          "height": 318
        }
      },
      "source": [
        "#Grafico que relacione salario con la edad, kind es el tipo de grafico, puede ser de barras, scatter, bar...\n",
        "dataframe.plot(x='SALARIO', y='EDAD',kind='bar')"
      ],
      "execution_count": 32,
      "outputs": [
        {
          "output_type": "execute_result",
          "data": {
            "text/plain": [
              "<matplotlib.axes._subplots.AxesSubplot at 0x7fcdf852ed30>"
            ]
          },
          "metadata": {
            "tags": []
          },
          "execution_count": 32
        },
        {
          "output_type": "display_data",
          "data": {
            "image/png": "[encoded data removed]",
            "text/plain": [
              "<Figure size 432x288 with 1 Axes>"
            ]
          },
          "metadata": {
            "tags": [],
            "needs_background": "light"
          }
        }
      ]
    },
    {
      "cell_type": "code",
      "metadata": {
        "id": "HeJyS4z9V6Yy"
      },
      "source": [
        "  "
      ],
      "execution_count": null,
      "outputs": []
    }
  ]
}